{
  "cells": [
    {
      "cell_type": "markdown",
      "metadata": {
        "id": "view-in-github",
        "colab_type": "text"
      },
      "source": [
        "<a href=\"https://colab.research.google.com/github/erikhhs/ads/blob/main/Pr_dummies_basics_solution.ipynb\" target=\"_parent\"><img src=\"https://colab.research.google.com/assets/colab-badge.svg\" alt=\"Open In Colab\"/></a>"
      ]
    },
    {
      "cell_type": "markdown",
      "metadata": {
        "id": "WVxXhfTZcfPu"
      },
      "source": [
        "# Programming for Dummies\n",
        "- Run the next cell to import libraries"
      ]
    },
    {
      "cell_type": "code",
      "execution_count": null,
      "metadata": {
        "id": "vQyUtYzhcfQE"
      },
      "outputs": [],
      "source": [
        "import numpy as np\n",
        "import pandas as pd\n",
        "from matplotlib import pyplot as plt\n",
        "import plotly.express as px"
      ]
    },
    {
      "cell_type": "markdown",
      "metadata": {
        "id": "yx7bHqOdcfQL"
      },
      "source": [
        "## 1. Using Python as a calculator\n",
        "\n",
        "### 1.1 Calculation symbols\n",
        "\n",
        "Show the result of:\n",
        "- 8 multiplied by 10\n",
        "- 10 to the power of 3\n",
        "- 300 minus 25 multiplied by 10 (check if calculation rules are applied correctly)\n",
        "\n",
        "Use the three cells below this assignment to show your solutions"
      ]
    },
    {
      "cell_type": "code",
      "execution_count": null,
      "metadata": {
        "id": "ocg2RbatcfQO",
        "outputId": "ec32dbca-2f8d-4f90-f6e6-942b39606bd7",
        "colab": {
          "base_uri": "https://localhost:8080/"
        }
      },
      "outputs": [
        {
          "output_type": "execute_result",
          "data": {
            "text/plain": [
              "80"
            ]
          },
          "metadata": {},
          "execution_count": 3
        }
      ],
      "source": [
        "8 * 10"
      ]
    },
    {
      "cell_type": "code",
      "execution_count": null,
      "metadata": {
        "id": "YpPYf31WcfQX",
        "outputId": "4862f3da-1992-4afe-a5ee-422982f8853b",
        "colab": {
          "base_uri": "https://localhost:8080/"
        }
      },
      "outputs": [
        {
          "output_type": "execute_result",
          "data": {
            "text/plain": [
              "1000"
            ]
          },
          "metadata": {},
          "execution_count": 4
        }
      ],
      "source": [
        "10 ** 3"
      ]
    },
    {
      "cell_type": "code",
      "execution_count": null,
      "metadata": {
        "id": "2opAVvIRcfQa",
        "outputId": "8c207b8d-9516-442e-9807-6973db0e2f80",
        "colab": {
          "base_uri": "https://localhost:8080/"
        }
      },
      "outputs": [
        {
          "output_type": "execute_result",
          "data": {
            "text/plain": [
              "50"
            ]
          },
          "metadata": {},
          "execution_count": 5
        }
      ],
      "source": [
        "300 - 25 * 10"
      ]
    },
    {
      "cell_type": "markdown",
      "metadata": {
        "id": "BDgWAJLBcfQd"
      },
      "source": [
        "### 1.2 Print results\n",
        "Python can be used as a calcutor\n",
        "\n",
        "Use the print command to show the results in one output cell:\n",
        "- 8 multiplied by 10\n",
        "- 10 to the power of 3\n",
        "- 300 minus 25 multiplied by 10 (check if calculation rules are applied correctly)\n"
      ]
    },
    {
      "cell_type": "code",
      "execution_count": null,
      "metadata": {
        "scrolled": true,
        "id": "lezhUY_ScfQi",
        "outputId": "ecaaefa9-e163-4279-956f-7efeab9172b5",
        "colab": {
          "base_uri": "https://localhost:8080/"
        }
      },
      "outputs": [
        {
          "output_type": "stream",
          "name": "stdout",
          "text": [
            "80\n",
            "1000\n",
            "50\n"
          ]
        }
      ],
      "source": [
        "print(8*10)\n",
        "print(10**3)\n",
        "print(300 - 25 * 10)"
      ]
    },
    {
      "cell_type": "markdown",
      "metadata": {
        "id": "H3x4HTafcfQp"
      },
      "source": [
        "What happens if you type a hashtag (#) in front of one of the print statements"
      ]
    },
    {
      "cell_type": "markdown",
      "metadata": {
        "id": "zIxR2X0LcfQu"
      },
      "source": [
        "### 1.3 Financial calculus\n",
        "Suppose you have $100, which you can invest with a 10% return each year. After one year, it's 100×1.1=110 dollars, and after two years it's 100×1.1×1.1=121. Add code to calculate how much money you end up with after 7 years, and print the result."
      ]
    },
    {
      "cell_type": "code",
      "execution_count": null,
      "metadata": {
        "id": "3-jdchX-cfQx",
        "outputId": "d2e029a5-2700-4125-99a9-c0fd80ea410f",
        "colab": {
          "base_uri": "https://localhost:8080/"
        }
      },
      "outputs": [
        {
          "output_type": "stream",
          "name": "stdout",
          "text": [
            "194.87171000000012\n"
          ]
        }
      ],
      "source": [
        "print(100*1.1**7)"
      ]
    },
    {
      "cell_type": "markdown",
      "metadata": {
        "id": "iO_TBC-ZcfQ0"
      },
      "source": [
        "## 2. Variables and types\n",
        "### 2.1 Variables\n",
        "\n",
        "Define the following 3 variables and assign values to them:\n",
        "\n",
        "quantity:\n",
        "The quantity sold is 1000\n",
        "\n",
        "price:\n",
        "The sales price is 3.65\n",
        "\n",
        "turnover:\n",
        "The turnover is price times quantity\n",
        "\n",
        "Print the turnover"
      ]
    },
    {
      "cell_type": "code",
      "execution_count": null,
      "metadata": {
        "id": "Gqxkj5g3cfQ2",
        "outputId": "50e0940b-7797-45fc-c293-4e0d6851c391",
        "colab": {
          "base_uri": "https://localhost:8080/"
        }
      },
      "outputs": [
        {
          "output_type": "stream",
          "name": "stdout",
          "text": [
            "3650.0\n"
          ]
        }
      ],
      "source": [
        "quantity = 1000\n",
        "price = 3.65\n",
        "turnover = price * quantity\n",
        "print(turnover)"
      ]
    },
    {
      "cell_type": "markdown",
      "metadata": {
        "id": "CdaSG83_cfQ4"
      },
      "source": [
        "### 2.2 Financial calculus using variables\n",
        "In exercise 1.3 you did the following exercise: \n",
        "\n",
        "Suppose you have $100, which you can invest with a 10% return each year. After one year, it's 100×1.1=110 dollars, and after two years it's 100×1.1×1.1=121. Add code to calculate how much money you end up with after 7 years, and print the result.\n",
        "\n",
        "Calculate the result using the variables: savings, multiplier, years and result.\n",
        "\n",
        "Print the result."
      ]
    },
    {
      "cell_type": "code",
      "execution_count": null,
      "metadata": {
        "id": "_ef1UMIccfQ6",
        "outputId": "0a15d62f-6891-4c6c-b7b2-489814cf4ee5",
        "colab": {
          "base_uri": "https://localhost:8080/"
        }
      },
      "outputs": [
        {
          "output_type": "stream",
          "name": "stdout",
          "text": [
            "194.87171000000012\n"
          ]
        }
      ],
      "source": [
        "savings = 100\n",
        "multiplier = 1.1\n",
        "years = 7\n",
        "result = savings * multiplier ** years\n",
        "print(result)"
      ]
    },
    {
      "cell_type": "markdown",
      "metadata": {
        "id": "mWIzF0BecfQ7"
      },
      "source": [
        "## 3 Lists\n",
        "- Run the code in the next cell to to set up the list fl_sp"
      ]
    },
    {
      "cell_type": "code",
      "execution_count": null,
      "metadata": {
        "id": "c2hNimapcfQ9",
        "outputId": "34dd4b2c-d4c5-41ab-ec60-69d8bf7ec7ad",
        "colab": {
          "base_uri": "https://localhost:8080/"
        }
      },
      "outputs": [
        {
          "output_type": "stream",
          "name": "stdout",
          "text": [
            "['swinton', 18526, 'stamford', 18569, 'skipton', 12288, 'stratton', 17092, 'shepperton', 11307]\n"
          ]
        }
      ],
      "source": [
        "fl_sp = ['swinton', 18526, 'stamford', 18569, 'skipton', 12288, 'stratton', 17092, 'shepperton', 11307]\n",
        "print(fl_sp)"
      ]
    },
    {
      "cell_type": "markdown",
      "metadata": {
        "id": "nK9eSlqrcfQ-"
      },
      "source": [
        "### 3.1 Selecting list elements"
      ]
    },
    {
      "cell_type": "markdown",
      "metadata": {
        "id": "H0Wqq1XUcfQ_"
      },
      "source": [
        "Print the following elements of fl_sp (remember that lists have zero-indexing):\n",
        "- The 3rd element\n",
        "- The first element\n",
        "- The last element\n",
        "- The second from last element"
      ]
    },
    {
      "cell_type": "code",
      "execution_count": null,
      "metadata": {
        "id": "IMzQVI2zcfRA",
        "outputId": "7e6a02dc-87d6-46ff-bacc-e5ca45be17b6",
        "colab": {
          "base_uri": "https://localhost:8080/"
        }
      },
      "outputs": [
        {
          "output_type": "stream",
          "name": "stdout",
          "text": [
            "stamford\n",
            "swinton\n",
            "11307\n",
            "shepperton\n"
          ]
        }
      ],
      "source": [
        "print(fl_sp[2])\n",
        "print(fl_sp[0])\n",
        "print(fl_sp[-1])\n",
        "print(fl_sp[-2])"
      ]
    },
    {
      "cell_type": "markdown",
      "metadata": {
        "id": "iYZ2wmkNcfRC"
      },
      "source": [
        "### 3.2 Functions\n",
        "- Run the next cell to create the lists town and fl_sp"
      ]
    },
    {
      "cell_type": "code",
      "execution_count": null,
      "metadata": {
        "id": "B485hs_TcfRF"
      },
      "outputs": [],
      "source": [
        "town = ['swinton', 'stamford', 'skipton', 'stratton', 'shepperton' ]\n",
        "fl_sp = [18526, 18569, 12288, 17092, 11307]"
      ]
    },
    {
      "cell_type": "markdown",
      "metadata": {
        "id": "dvCbeV5QcfRH"
      },
      "source": [
        "- Use the function len() to determine the number of elements in fl_sp and assign this number to a variable called number\n",
        "- Use the function sum() to determine the total floor space and assign this number to a variable called total\n",
        "- Calculate the average floor space and assign this to the variable avg\n",
        "- print avg"
      ]
    },
    {
      "cell_type": "code",
      "execution_count": null,
      "metadata": {
        "id": "rlJV2B5ncfRJ",
        "outputId": "3caed5c8-ec15-4818-b2b7-191e8bdb4790",
        "colab": {
          "base_uri": "https://localhost:8080/"
        }
      },
      "outputs": [
        {
          "output_type": "stream",
          "name": "stdout",
          "text": [
            "5\n"
          ]
        }
      ],
      "source": [
        "number = len(fl_sp)\n",
        "total = sum(fl_sp)\n",
        "avg = total / number\n",
        "print(number)"
      ]
    },
    {
      "cell_type": "markdown",
      "metadata": {
        "id": "MrqjXeQacfRL"
      },
      "source": [
        "### 3.3 List methods \n",
        "- Use a the index method to determine the index of skipton in the town list. Assign the result to a new variable, skipton_index. \n",
        "- Print skipton_index\n",
        "- Use skipton_index to determine the floor space of the Skipton store in fl_sp."
      ]
    },
    {
      "cell_type": "code",
      "execution_count": null,
      "metadata": {
        "id": "q1J4O4MYcfRM",
        "outputId": "7b2833ea-db3c-4258-cf48-6ec2d758c5e1",
        "colab": {
          "base_uri": "https://localhost:8080/"
        }
      },
      "outputs": [
        {
          "output_type": "stream",
          "name": "stdout",
          "text": [
            "2\n",
            "12288\n"
          ]
        }
      ],
      "source": [
        "town = ['swinton', 'stamford', 'skipton', 'stratton', 'shepperton' ]\n",
        "fl_sp = [18526, 18569, 12288, 17092, 11307]\n",
        "\n",
        "#Start coding here:\n",
        "skipton_index = town.index('skipton')\n",
        "print (skipton_index)\n",
        "skipton_fl_sp = fl_sp[skipton_index]\n",
        "print(skipton_fl_sp)"
      ]
    },
    {
      "cell_type": "markdown",
      "metadata": {
        "id": "YFVhaEKBcfRO"
      },
      "source": [
        "## 4 Poverty and inequality\n",
        "\n",
        "In this notebook you'll analyse a data set of the Worldbank to gain insight in the poverty rates and the inequalities of countries. \n",
        "\n",
        "The next cell reads a CSV file and converts the relevant data into lists that you'll use for your analysis.\n",
        "\n",
        "- Run the next cell"
      ]
    },
    {
      "cell_type": "code",
      "execution_count": null,
      "metadata": {
        "id": "CJVP6tFFcfRP",
        "outputId": "7ea4016b-3027-4558-cdaa-f6200f7d1b12",
        "colab": {
          "base_uri": "https://localhost:8080/"
        }
      },
      "outputs": [
        {
          "output_type": "error",
          "ename": "FileNotFoundError",
          "evalue": "ignored",
          "traceback": [
            "\u001b[0;31m---------------------------------------------------------------------------\u001b[0m",
            "\u001b[0;31mFileNotFoundError\u001b[0m                         Traceback (most recent call last)",
            "\u001b[0;32m<ipython-input-15-a2d2703607b0>\u001b[0m in \u001b[0;36m<module>\u001b[0;34m()\u001b[0m\n\u001b[1;32m      2\u001b[0m \u001b[0;32mimport\u001b[0m \u001b[0mnumpy\u001b[0m \u001b[0;32mas\u001b[0m \u001b[0mnp\u001b[0m\u001b[0;34m\u001b[0m\u001b[0;34m\u001b[0m\u001b[0m\n\u001b[1;32m      3\u001b[0m \u001b[0;31m#Read CSV\u001b[0m\u001b[0;34m\u001b[0m\u001b[0;34m\u001b[0m\u001b[0;34m\u001b[0m\u001b[0m\n\u001b[0;32m----> 4\u001b[0;31m \u001b[0mdfpov\u001b[0m \u001b[0;34m=\u001b[0m \u001b[0mpd\u001b[0m\u001b[0;34m.\u001b[0m\u001b[0mread_csv\u001b[0m\u001b[0;34m(\u001b[0m\u001b[0;34m'PovStatsData.csv'\u001b[0m\u001b[0;34m)\u001b[0m\u001b[0;34m\u001b[0m\u001b[0;34m\u001b[0m\u001b[0m\n\u001b[0m\u001b[1;32m      5\u001b[0m \u001b[0;34m\u001b[0m\u001b[0m\n\u001b[1;32m      6\u001b[0m \u001b[0;31m##poverty rates\u001b[0m\u001b[0;34m\u001b[0m\u001b[0;34m\u001b[0m\u001b[0;34m\u001b[0m\u001b[0m\n",
            "\u001b[0;32m/usr/local/lib/python3.7/dist-packages/pandas/io/parsers.py\u001b[0m in \u001b[0;36mread_csv\u001b[0;34m(filepath_or_buffer, sep, delimiter, header, names, index_col, usecols, squeeze, prefix, mangle_dupe_cols, dtype, engine, converters, true_values, false_values, skipinitialspace, skiprows, skipfooter, nrows, na_values, keep_default_na, na_filter, verbose, skip_blank_lines, parse_dates, infer_datetime_format, keep_date_col, date_parser, dayfirst, cache_dates, iterator, chunksize, compression, thousands, decimal, lineterminator, quotechar, quoting, doublequote, escapechar, comment, encoding, dialect, error_bad_lines, warn_bad_lines, delim_whitespace, low_memory, memory_map, float_precision)\u001b[0m\n\u001b[1;32m    686\u001b[0m     )\n\u001b[1;32m    687\u001b[0m \u001b[0;34m\u001b[0m\u001b[0m\n\u001b[0;32m--> 688\u001b[0;31m     \u001b[0;32mreturn\u001b[0m \u001b[0m_read\u001b[0m\u001b[0;34m(\u001b[0m\u001b[0mfilepath_or_buffer\u001b[0m\u001b[0;34m,\u001b[0m \u001b[0mkwds\u001b[0m\u001b[0;34m)\u001b[0m\u001b[0;34m\u001b[0m\u001b[0;34m\u001b[0m\u001b[0m\n\u001b[0m\u001b[1;32m    689\u001b[0m \u001b[0;34m\u001b[0m\u001b[0m\n\u001b[1;32m    690\u001b[0m \u001b[0;34m\u001b[0m\u001b[0m\n",
            "\u001b[0;32m/usr/local/lib/python3.7/dist-packages/pandas/io/parsers.py\u001b[0m in \u001b[0;36m_read\u001b[0;34m(filepath_or_buffer, kwds)\u001b[0m\n\u001b[1;32m    452\u001b[0m \u001b[0;34m\u001b[0m\u001b[0m\n\u001b[1;32m    453\u001b[0m     \u001b[0;31m# Create the parser.\u001b[0m\u001b[0;34m\u001b[0m\u001b[0;34m\u001b[0m\u001b[0;34m\u001b[0m\u001b[0m\n\u001b[0;32m--> 454\u001b[0;31m     \u001b[0mparser\u001b[0m \u001b[0;34m=\u001b[0m \u001b[0mTextFileReader\u001b[0m\u001b[0;34m(\u001b[0m\u001b[0mfp_or_buf\u001b[0m\u001b[0;34m,\u001b[0m \u001b[0;34m**\u001b[0m\u001b[0mkwds\u001b[0m\u001b[0;34m)\u001b[0m\u001b[0;34m\u001b[0m\u001b[0;34m\u001b[0m\u001b[0m\n\u001b[0m\u001b[1;32m    455\u001b[0m \u001b[0;34m\u001b[0m\u001b[0m\n\u001b[1;32m    456\u001b[0m     \u001b[0;32mif\u001b[0m \u001b[0mchunksize\u001b[0m \u001b[0;32mor\u001b[0m \u001b[0miterator\u001b[0m\u001b[0;34m:\u001b[0m\u001b[0;34m\u001b[0m\u001b[0;34m\u001b[0m\u001b[0m\n",
            "\u001b[0;32m/usr/local/lib/python3.7/dist-packages/pandas/io/parsers.py\u001b[0m in \u001b[0;36m__init__\u001b[0;34m(self, f, engine, **kwds)\u001b[0m\n\u001b[1;32m    946\u001b[0m             \u001b[0mself\u001b[0m\u001b[0;34m.\u001b[0m\u001b[0moptions\u001b[0m\u001b[0;34m[\u001b[0m\u001b[0;34m\"has_index_names\"\u001b[0m\u001b[0;34m]\u001b[0m \u001b[0;34m=\u001b[0m \u001b[0mkwds\u001b[0m\u001b[0;34m[\u001b[0m\u001b[0;34m\"has_index_names\"\u001b[0m\u001b[0;34m]\u001b[0m\u001b[0;34m\u001b[0m\u001b[0;34m\u001b[0m\u001b[0m\n\u001b[1;32m    947\u001b[0m \u001b[0;34m\u001b[0m\u001b[0m\n\u001b[0;32m--> 948\u001b[0;31m         \u001b[0mself\u001b[0m\u001b[0;34m.\u001b[0m\u001b[0m_make_engine\u001b[0m\u001b[0;34m(\u001b[0m\u001b[0mself\u001b[0m\u001b[0;34m.\u001b[0m\u001b[0mengine\u001b[0m\u001b[0;34m)\u001b[0m\u001b[0;34m\u001b[0m\u001b[0;34m\u001b[0m\u001b[0m\n\u001b[0m\u001b[1;32m    949\u001b[0m \u001b[0;34m\u001b[0m\u001b[0m\n\u001b[1;32m    950\u001b[0m     \u001b[0;32mdef\u001b[0m \u001b[0mclose\u001b[0m\u001b[0;34m(\u001b[0m\u001b[0mself\u001b[0m\u001b[0;34m)\u001b[0m\u001b[0;34m:\u001b[0m\u001b[0;34m\u001b[0m\u001b[0;34m\u001b[0m\u001b[0m\n",
            "\u001b[0;32m/usr/local/lib/python3.7/dist-packages/pandas/io/parsers.py\u001b[0m in \u001b[0;36m_make_engine\u001b[0;34m(self, engine)\u001b[0m\n\u001b[1;32m   1178\u001b[0m     \u001b[0;32mdef\u001b[0m \u001b[0m_make_engine\u001b[0m\u001b[0;34m(\u001b[0m\u001b[0mself\u001b[0m\u001b[0;34m,\u001b[0m \u001b[0mengine\u001b[0m\u001b[0;34m=\u001b[0m\u001b[0;34m\"c\"\u001b[0m\u001b[0;34m)\u001b[0m\u001b[0;34m:\u001b[0m\u001b[0;34m\u001b[0m\u001b[0;34m\u001b[0m\u001b[0m\n\u001b[1;32m   1179\u001b[0m         \u001b[0;32mif\u001b[0m \u001b[0mengine\u001b[0m \u001b[0;34m==\u001b[0m \u001b[0;34m\"c\"\u001b[0m\u001b[0;34m:\u001b[0m\u001b[0;34m\u001b[0m\u001b[0;34m\u001b[0m\u001b[0m\n\u001b[0;32m-> 1180\u001b[0;31m             \u001b[0mself\u001b[0m\u001b[0;34m.\u001b[0m\u001b[0m_engine\u001b[0m \u001b[0;34m=\u001b[0m \u001b[0mCParserWrapper\u001b[0m\u001b[0;34m(\u001b[0m\u001b[0mself\u001b[0m\u001b[0;34m.\u001b[0m\u001b[0mf\u001b[0m\u001b[0;34m,\u001b[0m \u001b[0;34m**\u001b[0m\u001b[0mself\u001b[0m\u001b[0;34m.\u001b[0m\u001b[0moptions\u001b[0m\u001b[0;34m)\u001b[0m\u001b[0;34m\u001b[0m\u001b[0;34m\u001b[0m\u001b[0m\n\u001b[0m\u001b[1;32m   1181\u001b[0m         \u001b[0;32melse\u001b[0m\u001b[0;34m:\u001b[0m\u001b[0;34m\u001b[0m\u001b[0;34m\u001b[0m\u001b[0m\n\u001b[1;32m   1182\u001b[0m             \u001b[0;32mif\u001b[0m \u001b[0mengine\u001b[0m \u001b[0;34m==\u001b[0m \u001b[0;34m\"python\"\u001b[0m\u001b[0;34m:\u001b[0m\u001b[0;34m\u001b[0m\u001b[0;34m\u001b[0m\u001b[0m\n",
            "\u001b[0;32m/usr/local/lib/python3.7/dist-packages/pandas/io/parsers.py\u001b[0m in \u001b[0;36m__init__\u001b[0;34m(self, src, **kwds)\u001b[0m\n\u001b[1;32m   2008\u001b[0m         \u001b[0mkwds\u001b[0m\u001b[0;34m[\u001b[0m\u001b[0;34m\"usecols\"\u001b[0m\u001b[0;34m]\u001b[0m \u001b[0;34m=\u001b[0m \u001b[0mself\u001b[0m\u001b[0;34m.\u001b[0m\u001b[0musecols\u001b[0m\u001b[0;34m\u001b[0m\u001b[0;34m\u001b[0m\u001b[0m\n\u001b[1;32m   2009\u001b[0m \u001b[0;34m\u001b[0m\u001b[0m\n\u001b[0;32m-> 2010\u001b[0;31m         \u001b[0mself\u001b[0m\u001b[0;34m.\u001b[0m\u001b[0m_reader\u001b[0m \u001b[0;34m=\u001b[0m \u001b[0mparsers\u001b[0m\u001b[0;34m.\u001b[0m\u001b[0mTextReader\u001b[0m\u001b[0;34m(\u001b[0m\u001b[0msrc\u001b[0m\u001b[0;34m,\u001b[0m \u001b[0;34m**\u001b[0m\u001b[0mkwds\u001b[0m\u001b[0;34m)\u001b[0m\u001b[0;34m\u001b[0m\u001b[0;34m\u001b[0m\u001b[0m\n\u001b[0m\u001b[1;32m   2011\u001b[0m         \u001b[0mself\u001b[0m\u001b[0;34m.\u001b[0m\u001b[0munnamed_cols\u001b[0m \u001b[0;34m=\u001b[0m \u001b[0mself\u001b[0m\u001b[0;34m.\u001b[0m\u001b[0m_reader\u001b[0m\u001b[0;34m.\u001b[0m\u001b[0munnamed_cols\u001b[0m\u001b[0;34m\u001b[0m\u001b[0;34m\u001b[0m\u001b[0m\n\u001b[1;32m   2012\u001b[0m \u001b[0;34m\u001b[0m\u001b[0m\n",
            "\u001b[0;32mpandas/_libs/parsers.pyx\u001b[0m in \u001b[0;36mpandas._libs.parsers.TextReader.__cinit__\u001b[0;34m()\u001b[0m\n",
            "\u001b[0;32mpandas/_libs/parsers.pyx\u001b[0m in \u001b[0;36mpandas._libs.parsers.TextReader._setup_parser_source\u001b[0;34m()\u001b[0m\n",
            "\u001b[0;31mFileNotFoundError\u001b[0m: [Errno 2] No such file or directory: 'PovStatsData.csv'"
          ]
        }
      ],
      "source": [
        "import pandas as pd\n",
        "import numpy as np\n",
        "#Read CSV\n",
        "dfpov = pd.read_csv('PovStatsData.csv')\n",
        "\n",
        "##poverty rates\n",
        "#select poverty rate rows\n",
        "dfpov_rate = dfpov[dfpov['Indicator Code']=='SI.POV.NAHC']\n",
        "#only the ones for which there is data in 2016\n",
        "df_pov_2016 = dfpov_rate [dfpov_rate['2016']>0]\n",
        "#Country codes and countries for which there are 2016 values\n",
        "cc = df_pov_2016['Country Code'].values.tolist()\n",
        "country = df_pov_2016['Country Name'].values.tolist()\n",
        "\n",
        "##population\n",
        "#select population rows\n",
        "dfpop = dfpov[dfpov['Indicator Code']=='SP.POP.TOTL']\n",
        "#only the ones for which poverty rates are available\n",
        "dfpop = dfpop[dfpop['Country Code'].isin(cc)]\n",
        "\n",
        "##Lists\n",
        "#Convert poverty and population data into lists\n",
        "pov = df_pov_2016['2016'].values.tolist()\n",
        "pop = dfpop['2016'].values.tolist()\n",
        "\n",
        "##GINI\n",
        "#select GINI rows\n",
        "dfgini = dfpov[dfpov['Indicator Code']=='SI.POV.GINI']\n",
        "#only the ones for which poverty rates are available and have gini scores in 2016\n",
        "dfgini = dfgini[dfgini['Country Code'].isin(cc)]\n",
        "dfgini = dfgini[dfgini['2016']>0]\n",
        "#Countries that have GINI scores\n",
        "cc_gini = dfgini['Country Code'].values.tolist()\n",
        "#Only values for which there are gini scores available\n",
        "df_pov_gini = dfpov_rate [dfpov_rate['Country Code'].isin(cc_gini)]\n",
        "\n",
        "#Creating poverty and gini lists\n",
        "gini = dfgini['2016'].values.tolist()\n",
        "pov = df_pov_gini['2016'].values.tolist()\n",
        "\n",
        "print(cc_gini)\n",
        "print(gini)\n",
        "print(pov)"
      ]
    },
    {
      "cell_type": "markdown",
      "metadata": {
        "id": "RNwwo__PcfRQ"
      },
      "source": [
        "### 4.1 Plotting\n",
        "- Run the next cell to create bar plot that shows the GINI score by country"
      ]
    },
    {
      "cell_type": "code",
      "execution_count": null,
      "metadata": {
        "id": "8ASf76fzcfRR"
      },
      "outputs": [],
      "source": [
        "plt.figure(figsize=(20,10))\n",
        "plt.barh(cc_gini, gini)\n",
        "plt.xlabel('Inequality')\n",
        "plt.ylabel('Country')\n",
        "plt.title('GINI score by country')\n",
        "plt.show()"
      ]
    },
    {
      "cell_type": "markdown",
      "metadata": {
        "id": "t-CLzQ9QcfRS"
      },
      "source": [
        "- Change the next cell in such a way that a scatter plot is created with poverty on the x-axis and gini on the y-axis.\n",
        "\n",
        "Include the following information:\n",
        "- x-axis label: 'Poverty Ratio'\n",
        "- y-axis label: 'Gini coefficient'\n",
        "- title: 'Relation poverty and inequality'"
      ]
    },
    {
      "cell_type": "code",
      "execution_count": null,
      "metadata": {
        "id": "4ZOzUDaocfRT"
      },
      "outputs": [],
      "source": [
        "plt.scatter(pov, gini)\n",
        "plt.xlabel('Poverty Ratio')\n",
        "plt.ylabel('Gini coefficient')\n",
        "plt.title('Relation poverty and inequality')\n",
        "plt.show()"
      ]
    },
    {
      "cell_type": "code",
      "execution_count": null,
      "metadata": {
        "id": "n5PJV7ltcfRU"
      },
      "outputs": [],
      "source": [
        "corr = np.corrcoef(pov, gini)\n",
        "print(corr)"
      ]
    },
    {
      "cell_type": "markdown",
      "metadata": {
        "id": "e4BArRy7cfRV"
      },
      "source": [
        "### 4.2 Advanced plotting\n",
        "- Run the next cell to import data about GDP and life expectancy"
      ]
    },
    {
      "cell_type": "code",
      "execution_count": null,
      "metadata": {
        "id": "jZZvmoY3cfRW"
      },
      "outputs": [],
      "source": [
        "dataset = pd.read_csv('dataset.csv')\n",
        "display(dataset)"
      ]
    },
    {
      "cell_type": "markdown",
      "metadata": {
        "id": "MN09mnntcfRY"
      },
      "source": [
        "https://www.youtube.com/watch?v=E6t7ZZ_FY4o\n",
        "\n",
        "\n",
        "https://medium.com/python-in-plain-english/animated-bubble-chart-with-plotly-in-python-inspired-by-professor-hans-rosling-b7262298dd03"
      ]
    },
    {
      "cell_type": "code",
      "execution_count": null,
      "metadata": {
        "id": "lOpMUcRmcfRZ"
      },
      "outputs": [],
      "source": [
        "fig = px.scatter(dataset, x='GDPperCap', y='LifeExp', animation_frame='Year', \n",
        " animation_group='Country',size='Population', \n",
        " color='Continent_Name',\n",
        " hover_name='Country', log_x=True, \n",
        " size_max=45,range_x=[200,150000], range_y=[10,100]\n",
        " )\n",
        "fig.layout.updatemenus[0].buttons[0].args[1]['frame']['duration'] = 700\n",
        "fig.show()"
      ]
    }
  ],
  "metadata": {
    "kernelspec": {
      "display_name": "Python 3",
      "language": "python",
      "name": "python3"
    },
    "language_info": {
      "codemirror_mode": {
        "name": "ipython",
        "version": 3
      },
      "file_extension": ".py",
      "mimetype": "text/x-python",
      "name": "python",
      "nbconvert_exporter": "python",
      "pygments_lexer": "ipython3",
      "version": "3.8.5"
    },
    "colab": {
      "name": "Pr_dummies_basics_solution.ipynb",
      "provenance": [],
      "include_colab_link": true
    }
  },
  "nbformat": 4,
  "nbformat_minor": 0
}