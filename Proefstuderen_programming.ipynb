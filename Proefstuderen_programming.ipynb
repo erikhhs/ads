{
  "cells": [
    {
      "cell_type": "markdown",
      "metadata": {
        "id": "view-in-github",
        "colab_type": "text"
      },
      "source": [
        "<a href=\"https://colab.research.google.com/github/erikhhs/ads/blob/main/Proefstuderen_programming.ipynb\" target=\"_parent\"><img src=\"https://colab.research.google.com/assets/colab-badge.svg\" alt=\"Open In Colab\"/></a>"
      ]
    },
    {
      "cell_type": "markdown",
      "metadata": {
        "id": "WVxXhfTZcfPu"
      },
      "source": [
        "# Proefstuderen: programmeren\n",
        "- Voer onderstaande cel uit om libraries te importeren"
      ]
    },
    {
      "cell_type": "code",
      "execution_count": 7,
      "metadata": {
        "id": "vQyUtYzhcfQE"
      },
      "outputs": [],
      "source": [
        "import numpy as np\n",
        "import pandas as pd\n",
        "from matplotlib import pyplot as plt\n",
        "import plotly.express as px"
      ]
    },
    {
      "cell_type": "markdown",
      "metadata": {
        "id": "yx7bHqOdcfQL"
      },
      "source": [
        "## 1. Python als rekenmachine\n",
        "\n",
        "### 1.1 Rekensymbolen\n",
        "\n",
        "Toon het resultaat van:\n",
        "- 8 maal 10\n",
        "- 10 tot de 3e macht\n",
        "- 300 min 25 maal 10 (controleer of de rekenregels goed worden toegepast)\n",
        "\n",
        "Maak hiervoor gebruik van de 3 onderstaande cellen"
      ]
    },
    {
      "cell_type": "code",
      "execution_count": null,
      "metadata": {
        "id": "ocg2RbatcfQO",
        "outputId": "ec32dbca-2f8d-4f90-f6e6-942b39606bd7",
        "colab": {
          "base_uri": "https://localhost:8080/"
        }
      },
      "outputs": [
        {
          "output_type": "execute_result",
          "data": {
            "text/plain": [
              "80"
            ]
          },
          "metadata": {},
          "execution_count": 3
        }
      ],
      "source": [
        "8 * 10"
      ]
    },
    {
      "cell_type": "code",
      "execution_count": null,
      "metadata": {
        "id": "YpPYf31WcfQX",
        "outputId": "4862f3da-1992-4afe-a5ee-422982f8853b",
        "colab": {
          "base_uri": "https://localhost:8080/"
        }
      },
      "outputs": [
        {
          "output_type": "execute_result",
          "data": {
            "text/plain": [
              "1000"
            ]
          },
          "metadata": {},
          "execution_count": 4
        }
      ],
      "source": [
        "10 ** 3"
      ]
    },
    {
      "cell_type": "code",
      "execution_count": null,
      "metadata": {
        "id": "2opAVvIRcfQa",
        "outputId": "8c207b8d-9516-442e-9807-6973db0e2f80",
        "colab": {
          "base_uri": "https://localhost:8080/"
        }
      },
      "outputs": [
        {
          "output_type": "execute_result",
          "data": {
            "text/plain": [
              "50"
            ]
          },
          "metadata": {},
          "execution_count": 5
        }
      ],
      "source": [
        "300 - 25 * 10"
      ]
    },
    {
      "cell_type": "markdown",
      "metadata": {
        "id": "BDgWAJLBcfQd"
      },
      "source": [
        "### 1.2 Printen van resultaten\n",
        "Gebruik de printfunctie om de resultaten in 1 cel te tonen.\n"
      ]
    },
    {
      "cell_type": "code",
      "execution_count": null,
      "metadata": {
        "scrolled": true,
        "id": "lezhUY_ScfQi",
        "outputId": "ecaaefa9-e163-4279-956f-7efeab9172b5",
        "colab": {
          "base_uri": "https://localhost:8080/"
        }
      },
      "outputs": [
        {
          "output_type": "stream",
          "name": "stdout",
          "text": [
            "80\n",
            "1000\n",
            "50\n"
          ]
        }
      ],
      "source": [
        "print(8*10)\n",
        "print(10**3)\n",
        "print(300 - 25 * 10)"
      ]
    },
    {
      "cell_type": "markdown",
      "metadata": {
        "id": "H3x4HTafcfQp"
      },
      "source": [
        "Wat gebeurt er als je een hashtag (#) voor een van de print statements zet?"
      ]
    },
    {
      "cell_type": "markdown",
      "metadata": {
        "id": "zIxR2X0LcfQu"
      },
      "source": [
        "### 1.3 Financiele rekenkunde\n",
        "Je hebt $100 tot je beschikking. Je kan dit op een spaarrekening zetten met 10% rente ieder jaar. Na 1 jaar is de waarde: 100×1.1=110 dollar. Na twee jaar is de waarde 100×1.1×1.1=121. Schrijf code om te berekenen hoeveel de waarde is na 7 jaar. Gebruik de print functie om het resultaat te tonen."
      ]
    },
    {
      "cell_type": "code",
      "execution_count": null,
      "metadata": {
        "id": "3-jdchX-cfQx",
        "outputId": "d2e029a5-2700-4125-99a9-c0fd80ea410f",
        "colab": {
          "base_uri": "https://localhost:8080/"
        }
      },
      "outputs": [
        {
          "output_type": "stream",
          "name": "stdout",
          "text": [
            "194.87171000000012\n"
          ]
        }
      ],
      "source": [
        "print(100*1.1**7)"
      ]
    },
    {
      "cell_type": "markdown",
      "metadata": {
        "id": "iO_TBC-ZcfQ0"
      },
      "source": [
        "## 2. Variabelen en types\n",
        "### 2.1 Variabelen\n",
        "\n",
        "Definieer de volgende variabelen en wijs de genoemde waardes eraan toe. Print de omzet.\n",
        "\n",
        "hvd:\n",
        "De verkochte hoeveelheid is 100.\n",
        "\n",
        "prijs:\n",
        "De verkoopprijs is 3.65.\n",
        "\n",
        "omzet:\n",
        "de omzet is prijs maal hoeveelheid.\n",
        "\n",
        "print de omzet"
      ]
    },
    {
      "cell_type": "code",
      "execution_count": null,
      "metadata": {
        "id": "Gqxkj5g3cfQ2",
        "outputId": "9562ac87-f525-4e67-a502-a079cb6706d8",
        "colab": {
          "base_uri": "https://localhost:8080/"
        }
      },
      "outputs": [
        {
          "output_type": "stream",
          "name": "stdout",
          "text": [
            "3650.0\n"
          ]
        }
      ],
      "source": [
        "hvd = 1000\n",
        "prijs = 3.65\n",
        "omzet = prijs * hvd\n",
        "print(omzet)"
      ]
    },
    {
      "cell_type": "markdown",
      "metadata": {
        "id": "CdaSG83_cfQ4"
      },
      "source": [
        "### 2.2 Financiele rekenkunde met variabelen\n",
        "Voor opdracht 1.3 deed je het volgende:\n",
        "\n",
        "Je hebt $100 tot je beschikking. Je kan dit op een spaarrekening zetten met 10% rente ieder jaar. Na 1 jaar is de waarde: 100×1.1=110 dollar. Na twee jaar is de waarde 100×1.1×1.1=121. Schrijf code om te berekenen hoeveel de waarde is na 7 jaar. Gebruik de print functie om het resultaat te tonen.\n",
        "\n",
        "Bereken de waarde na 7 jaar opnieuw, maar maak nu gebruik van de volgende variabelen: startbedrag, factor, jaren, waarde.\n",
        "\n",
        "Print de waarde."
      ]
    },
    {
      "cell_type": "code",
      "execution_count": null,
      "metadata": {
        "id": "_ef1UMIccfQ6",
        "outputId": "166feda8-d78c-46b5-b5a9-02fbc207f5e7",
        "colab": {
          "base_uri": "https://localhost:8080/"
        }
      },
      "outputs": [
        {
          "output_type": "stream",
          "name": "stdout",
          "text": [
            "194.87171000000012\n"
          ]
        }
      ],
      "source": [
        "startbedrag = 100\n",
        "factor = 1.1\n",
        "jaren = 7\n",
        "waarde = startbedrag * factor ** jaren\n",
        "print(waarde)"
      ]
    },
    {
      "cell_type": "markdown",
      "metadata": {
        "id": "YFVhaEKBcfRO"
      },
      "source": [
        "## 3 Armoede en ongelijkheid\n",
        "\n",
        "We gaan nu onderzoeken hoe het ervoor staat met armoede en inkomensongelijkheid in de wereld. We maken daarvoor gebruik van een dataset van de wereldbank."
      ]
    },
    {
      "cell_type": "code",
      "source": [
        "df = pd.read_csv('https://raw.githubusercontent.com/erikhhs/ads/main/armoede_ongelijkheid.csv')\n",
        "df"
      ],
      "metadata": {
        "id": "qMKLdvLC6s0K",
        "outputId": "3cc795c4-569e-466a-e2cf-2ce6dc88a04d",
        "colab": {
          "base_uri": "https://localhost:8080/",
          "height": 1000
        }
      },
      "execution_count": 4,
      "outputs": [
        {
          "output_type": "execute_result",
          "data": {
            "text/html": [
              "<div>\n",
              "<style scoped>\n",
              "    .dataframe tbody tr th:only-of-type {\n",
              "        vertical-align: middle;\n",
              "    }\n",
              "\n",
              "    .dataframe tbody tr th {\n",
              "        vertical-align: top;\n",
              "    }\n",
              "\n",
              "    .dataframe thead th {\n",
              "        text-align: right;\n",
              "    }\n",
              "</style>\n",
              "<table border=\"1\" class=\"dataframe\">\n",
              "  <thead>\n",
              "    <tr style=\"text-align: right;\">\n",
              "      <th></th>\n",
              "      <th>cc</th>\n",
              "      <th>gini</th>\n",
              "      <th>pov</th>\n",
              "    </tr>\n",
              "  </thead>\n",
              "  <tbody>\n",
              "    <tr>\n",
              "      <th>0</th>\n",
              "      <td>ARG</td>\n",
              "      <td>42.0</td>\n",
              "      <td>30.3</td>\n",
              "    </tr>\n",
              "    <tr>\n",
              "      <th>1</th>\n",
              "      <td>ARM</td>\n",
              "      <td>32.5</td>\n",
              "      <td>29.4</td>\n",
              "    </tr>\n",
              "    <tr>\n",
              "      <th>2</th>\n",
              "      <td>BGD</td>\n",
              "      <td>32.4</td>\n",
              "      <td>24.3</td>\n",
              "    </tr>\n",
              "    <tr>\n",
              "      <th>3</th>\n",
              "      <td>BLR</td>\n",
              "      <td>25.3</td>\n",
              "      <td>5.7</td>\n",
              "    </tr>\n",
              "    <tr>\n",
              "      <th>4</th>\n",
              "      <td>BOL</td>\n",
              "      <td>44.6</td>\n",
              "      <td>39.5</td>\n",
              "    </tr>\n",
              "    <tr>\n",
              "      <th>5</th>\n",
              "      <td>COL</td>\n",
              "      <td>50.8</td>\n",
              "      <td>28.0</td>\n",
              "    </tr>\n",
              "    <tr>\n",
              "      <th>6</th>\n",
              "      <td>CRI</td>\n",
              "      <td>48.7</td>\n",
              "      <td>20.5</td>\n",
              "    </tr>\n",
              "    <tr>\n",
              "      <th>7</th>\n",
              "      <td>DOM</td>\n",
              "      <td>45.7</td>\n",
              "      <td>30.5</td>\n",
              "    </tr>\n",
              "    <tr>\n",
              "      <th>8</th>\n",
              "      <td>ECU</td>\n",
              "      <td>45.0</td>\n",
              "      <td>22.9</td>\n",
              "    </tr>\n",
              "    <tr>\n",
              "      <th>9</th>\n",
              "      <td>SLV</td>\n",
              "      <td>40.0</td>\n",
              "      <td>32.7</td>\n",
              "    </tr>\n",
              "    <tr>\n",
              "      <th>10</th>\n",
              "      <td>GEO</td>\n",
              "      <td>36.6</td>\n",
              "      <td>22.0</td>\n",
              "    </tr>\n",
              "    <tr>\n",
              "      <th>11</th>\n",
              "      <td>GHA</td>\n",
              "      <td>43.5</td>\n",
              "      <td>23.4</td>\n",
              "    </tr>\n",
              "    <tr>\n",
              "      <th>12</th>\n",
              "      <td>HND</td>\n",
              "      <td>50.0</td>\n",
              "      <td>60.9</td>\n",
              "    </tr>\n",
              "    <tr>\n",
              "      <th>13</th>\n",
              "      <td>IDN</td>\n",
              "      <td>38.6</td>\n",
              "      <td>10.9</td>\n",
              "    </tr>\n",
              "    <tr>\n",
              "      <th>14</th>\n",
              "      <td>KAZ</td>\n",
              "      <td>27.2</td>\n",
              "      <td>2.5</td>\n",
              "    </tr>\n",
              "    <tr>\n",
              "      <th>15</th>\n",
              "      <td>KGZ</td>\n",
              "      <td>26.8</td>\n",
              "      <td>25.4</td>\n",
              "    </tr>\n",
              "    <tr>\n",
              "      <th>16</th>\n",
              "      <td>LBR</td>\n",
              "      <td>35.3</td>\n",
              "      <td>50.9</td>\n",
              "    </tr>\n",
              "    <tr>\n",
              "      <th>17</th>\n",
              "      <td>MWI</td>\n",
              "      <td>44.7</td>\n",
              "      <td>51.5</td>\n",
              "    </tr>\n",
              "    <tr>\n",
              "      <th>18</th>\n",
              "      <td>MEX</td>\n",
              "      <td>48.3</td>\n",
              "      <td>43.6</td>\n",
              "    </tr>\n",
              "    <tr>\n",
              "      <th>19</th>\n",
              "      <td>MNG</td>\n",
              "      <td>32.3</td>\n",
              "      <td>29.6</td>\n",
              "    </tr>\n",
              "    <tr>\n",
              "      <th>20</th>\n",
              "      <td>PAN</td>\n",
              "      <td>50.4</td>\n",
              "      <td>22.1</td>\n",
              "    </tr>\n",
              "    <tr>\n",
              "      <th>21</th>\n",
              "      <td>PRY</td>\n",
              "      <td>47.9</td>\n",
              "      <td>28.9</td>\n",
              "    </tr>\n",
              "    <tr>\n",
              "      <th>22</th>\n",
              "      <td>PER</td>\n",
              "      <td>43.6</td>\n",
              "      <td>20.7</td>\n",
              "    </tr>\n",
              "    <tr>\n",
              "      <th>23</th>\n",
              "      <td>RWA</td>\n",
              "      <td>43.7</td>\n",
              "      <td>38.2</td>\n",
              "    </tr>\n",
              "    <tr>\n",
              "      <th>24</th>\n",
              "      <td>LKA</td>\n",
              "      <td>39.8</td>\n",
              "      <td>4.1</td>\n",
              "    </tr>\n",
              "    <tr>\n",
              "      <th>25</th>\n",
              "      <td>LCA</td>\n",
              "      <td>51.2</td>\n",
              "      <td>25.0</td>\n",
              "    </tr>\n",
              "    <tr>\n",
              "      <th>26</th>\n",
              "      <td>THA</td>\n",
              "      <td>36.9</td>\n",
              "      <td>8.6</td>\n",
              "    </tr>\n",
              "    <tr>\n",
              "      <th>27</th>\n",
              "      <td>TUR</td>\n",
              "      <td>41.9</td>\n",
              "      <td>14.3</td>\n",
              "    </tr>\n",
              "    <tr>\n",
              "      <th>28</th>\n",
              "      <td>UGA</td>\n",
              "      <td>42.8</td>\n",
              "      <td>21.4</td>\n",
              "    </tr>\n",
              "    <tr>\n",
              "      <th>29</th>\n",
              "      <td>UKR</td>\n",
              "      <td>25.0</td>\n",
              "      <td>3.8</td>\n",
              "    </tr>\n",
              "    <tr>\n",
              "      <th>30</th>\n",
              "      <td>URY</td>\n",
              "      <td>39.7</td>\n",
              "      <td>9.4</td>\n",
              "    </tr>\n",
              "    <tr>\n",
              "      <th>31</th>\n",
              "      <td>VNM</td>\n",
              "      <td>35.3</td>\n",
              "      <td>9.8</td>\n",
              "    </tr>\n",
              "    <tr>\n",
              "      <th>32</th>\n",
              "      <td>PSE</td>\n",
              "      <td>33.7</td>\n",
              "      <td>29.2</td>\n",
              "    </tr>\n",
              "  </tbody>\n",
              "</table>\n",
              "</div>"
            ],
            "text/plain": [
              "     cc  gini   pov\n",
              "0   ARG  42.0  30.3\n",
              "1   ARM  32.5  29.4\n",
              "2   BGD  32.4  24.3\n",
              "3   BLR  25.3   5.7\n",
              "4   BOL  44.6  39.5\n",
              "5   COL  50.8  28.0\n",
              "6   CRI  48.7  20.5\n",
              "7   DOM  45.7  30.5\n",
              "8   ECU  45.0  22.9\n",
              "9   SLV  40.0  32.7\n",
              "10  GEO  36.6  22.0\n",
              "11  GHA  43.5  23.4\n",
              "12  HND  50.0  60.9\n",
              "13  IDN  38.6  10.9\n",
              "14  KAZ  27.2   2.5\n",
              "15  KGZ  26.8  25.4\n",
              "16  LBR  35.3  50.9\n",
              "17  MWI  44.7  51.5\n",
              "18  MEX  48.3  43.6\n",
              "19  MNG  32.3  29.6\n",
              "20  PAN  50.4  22.1\n",
              "21  PRY  47.9  28.9\n",
              "22  PER  43.6  20.7\n",
              "23  RWA  43.7  38.2\n",
              "24  LKA  39.8   4.1\n",
              "25  LCA  51.2  25.0\n",
              "26  THA  36.9   8.6\n",
              "27  TUR  41.9  14.3\n",
              "28  UGA  42.8  21.4\n",
              "29  UKR  25.0   3.8\n",
              "30  URY  39.7   9.4\n",
              "31  VNM  35.3   9.8\n",
              "32  PSE  33.7  29.2"
            ]
          },
          "metadata": {},
          "execution_count": 4
        }
      ]
    },
    {
      "cell_type": "markdown",
      "metadata": {
        "id": "RNwwo__PcfRQ"
      },
      "source": [
        "### 3.1 Data analyse: armoede\n",
        "de kolom 'pov' bevat de poverty rate per land. Dit is het perecentage mensen dat in armoede leeft. \n",
        "- Bereken het het gemiddelde van de 'poverty rates'\n",
        "- Bepaal wat de hoogste poverty rate is\n",
        "- Bepaal welk land de hoogste poverty rate heeft\n"
      ]
    },
    {
      "cell_type": "code",
      "source": [
        "mean_pov = np.mean(df['pov'])\n",
        "display(mean_pov)\n",
        "max_pov = max(df['pov'])\n",
        "display(max_pov)\n",
        "country_max = df[df['pov']==max_pov]\n",
        "display(country_max)"
      ],
      "metadata": {
        "id": "1UKQ1xowxH3u",
        "outputId": "b3358658-7a86-42bc-f146-69f441a3cf7e",
        "colab": {
          "base_uri": "https://localhost:8080/",
          "height": 114
        }
      },
      "execution_count": 5,
      "outputs": [
        {
          "output_type": "display_data",
          "data": {
            "text/plain": [
              "24.848484848484844"
            ]
          },
          "metadata": {}
        },
        {
          "output_type": "display_data",
          "data": {
            "text/plain": [
              "60.9"
            ]
          },
          "metadata": {}
        },
        {
          "output_type": "display_data",
          "data": {
            "text/html": [
              "<div>\n",
              "<style scoped>\n",
              "    .dataframe tbody tr th:only-of-type {\n",
              "        vertical-align: middle;\n",
              "    }\n",
              "\n",
              "    .dataframe tbody tr th {\n",
              "        vertical-align: top;\n",
              "    }\n",
              "\n",
              "    .dataframe thead th {\n",
              "        text-align: right;\n",
              "    }\n",
              "</style>\n",
              "<table border=\"1\" class=\"dataframe\">\n",
              "  <thead>\n",
              "    <tr style=\"text-align: right;\">\n",
              "      <th></th>\n",
              "      <th>cc</th>\n",
              "      <th>gini</th>\n",
              "      <th>pov</th>\n",
              "    </tr>\n",
              "  </thead>\n",
              "  <tbody>\n",
              "    <tr>\n",
              "      <th>12</th>\n",
              "      <td>HND</td>\n",
              "      <td>50.0</td>\n",
              "      <td>60.9</td>\n",
              "    </tr>\n",
              "  </tbody>\n",
              "</table>\n",
              "</div>"
            ],
            "text/plain": [
              "     cc  gini   pov\n",
              "12  HND  50.0  60.9"
            ]
          },
          "metadata": {}
        }
      ]
    },
    {
      "cell_type": "markdown",
      "source": [
        "### 3.2 Data analyse: inkomensongelijkheid\n",
        "de kolom 'gini' bevat de gini coefficient per land. Hoe hoger deze coefficient hoe ongelijker inkomens zijn verdeeld in een land.\n",
        "- Bereken het het gemiddelde van gini\n",
        "- Bepaal wat de gini is\n",
        "- Bepaal welk land de hoogste gini heeft"
      ],
      "metadata": {
        "id": "PGeU51k2yyYL"
      }
    },
    {
      "cell_type": "code",
      "source": [
        "mean_gini = np.mean(df['gini'])\n",
        "display(mean_gini)\n",
        "max_gini = max(df['gini'])\n",
        "display(max_gini)\n",
        "country_max_g = df[df['gini']==max_gini]\n",
        "country_max_g"
      ],
      "metadata": {
        "id": "I_UREWhEy83w",
        "outputId": "fd1952c9-429a-4698-ae8e-edb9f19be8b7",
        "colab": {
          "base_uri": "https://localhost:8080/",
          "height": 114
        }
      },
      "execution_count": null,
      "outputs": [
        {
          "output_type": "display_data",
          "data": {
            "text/plain": [
              "40.06666666666667"
            ]
          },
          "metadata": {}
        },
        {
          "output_type": "display_data",
          "data": {
            "text/plain": [
              "51.2"
            ]
          },
          "metadata": {}
        },
        {
          "output_type": "execute_result",
          "data": {
            "text/html": [
              "<div>\n",
              "<style scoped>\n",
              "    .dataframe tbody tr th:only-of-type {\n",
              "        vertical-align: middle;\n",
              "    }\n",
              "\n",
              "    .dataframe tbody tr th {\n",
              "        vertical-align: top;\n",
              "    }\n",
              "\n",
              "    .dataframe thead th {\n",
              "        text-align: right;\n",
              "    }\n",
              "</style>\n",
              "<table border=\"1\" class=\"dataframe\">\n",
              "  <thead>\n",
              "    <tr style=\"text-align: right;\">\n",
              "      <th></th>\n",
              "      <th>cc</th>\n",
              "      <th>gini</th>\n",
              "      <th>pov</th>\n",
              "    </tr>\n",
              "  </thead>\n",
              "  <tbody>\n",
              "    <tr>\n",
              "      <th>25</th>\n",
              "      <td>LCA</td>\n",
              "      <td>51.2</td>\n",
              "      <td>25.0</td>\n",
              "    </tr>\n",
              "  </tbody>\n",
              "</table>\n",
              "</div>"
            ],
            "text/plain": [
              "     cc  gini   pov\n",
              "25  LCA  51.2  25.0"
            ]
          },
          "metadata": {},
          "execution_count": 20
        }
      ]
    },
    {
      "cell_type": "markdown",
      "source": [
        "### 4.1 Data visualisatie"
      ],
      "metadata": {
        "id": "xir47boI-6ZO"
      }
    },
    {
      "cell_type": "code",
      "execution_count": 9,
      "metadata": {
        "id": "8ASf76fzcfRR",
        "outputId": "0dd63658-60cb-4530-99b8-c52f3f8810bd",
        "colab": {
          "base_uri": "https://localhost:8080/",
          "height": 621
        }
      },
      "outputs": [
        {
          "output_type": "display_data",
          "data": {
            "image/png": "[encoded data removed]",
            "text/plain": [
              "<Figure size 1440x720 with 1 Axes>"
            ]
          },
          "metadata": {
            "needs_background": "light"
          }
        }
      ],
      "source": [
        "df.sort_values('gini', inplace=True)\n",
        "plt.figure(figsize=(20,10))\n",
        "plt.barh(df['cc'], df['gini'])\n",
        "plt.xlabel('Inequality')\n",
        "plt.ylabel('Country')\n",
        "plt.title('GINI score by country')\n",
        "plt.show()"
      ]
    },
    {
      "cell_type": "markdown",
      "metadata": {
        "id": "t-CLzQ9QcfRS"
      },
      "source": [
        "- Change the next cell in such a way that a scatter plot is created with poverty on the x-axis and gini on the y-axis.\n",
        "\n",
        "Include the following information:\n",
        "- x-axis label: 'Poverty Ratio'\n",
        "- y-axis label: 'Gini coefficient'\n",
        "- title: 'Relation poverty and inequality'"
      ]
    },
    {
      "cell_type": "code",
      "execution_count": null,
      "metadata": {
        "id": "4ZOzUDaocfRT",
        "outputId": "21a86da2-5d5c-4263-af2f-5bf0646ddba1",
        "colab": {
          "base_uri": "https://localhost:8080/",
          "height": 295
        }
      },
      "outputs": [
        {
          "output_type": "display_data",
          "data": {
            "image/png": "[encoded data removed]",
            "text/plain": [
              "<Figure size 432x288 with 1 Axes>"
            ]
          },
          "metadata": {
            "needs_background": "light"
          }
        }
      ],
      "source": [
        "plt.scatter(df['pov'], df['gini'])\n",
        "plt.xlabel('Poverty Ratio')\n",
        "plt.ylabel('Gini coefficient')\n",
        "plt.title('Relation poverty and inequality')\n",
        "plt.show()"
      ]
    },
    {
      "cell_type": "code",
      "execution_count": null,
      "metadata": {
        "id": "n5PJV7ltcfRU",
        "outputId": "848dc431-df3a-48d7-e064-2cf1b9caaf7f",
        "colab": {
          "base_uri": "https://localhost:8080/"
        }
      },
      "outputs": [
        {
          "output_type": "stream",
          "name": "stdout",
          "text": [
            "[[1.         0.44812744]\n",
            " [0.44812744 1.        ]]\n"
          ]
        }
      ],
      "source": [
        "corr = np.corrcoef(df['pov'], df['gini'])\n",
        "print(corr)"
      ]
    },
    {
      "cell_type": "markdown",
      "metadata": {
        "id": "e4BArRy7cfRV"
      },
      "source": [
        "### 4.2 Advanced plotting\n",
        "- Run the next cell to import data about GDP and life expectancy"
      ]
    },
    {
      "cell_type": "code",
      "execution_count": null,
      "metadata": {
        "id": "jZZvmoY3cfRW"
      },
      "outputs": [],
      "source": [
        "dataset = pd.read_csv('dataset.csv')\n",
        "display(dataset)"
      ]
    },
    {
      "cell_type": "markdown",
      "metadata": {
        "id": "MN09mnntcfRY"
      },
      "source": [
        "https://www.youtube.com/watch?v=E6t7ZZ_FY4o\n",
        "\n",
        "\n",
        "https://medium.com/python-in-plain-english/animated-bubble-chart-with-plotly-in-python-inspired-by-professor-hans-rosling-b7262298dd03"
      ]
    },
    {
      "cell_type": "code",
      "execution_count": null,
      "metadata": {
        "id": "lOpMUcRmcfRZ"
      },
      "outputs": [],
      "source": [
        "fig = px.scatter(dataset, x='GDPperCap', y='LifeExp', animation_frame='Year', \n",
        " animation_group='Country',size='Population', \n",
        " color='Continent_Name',\n",
        " hover_name='Country', log_x=True, \n",
        " size_max=45,range_x=[200,150000], range_y=[10,100]\n",
        " )\n",
        "fig.layout.updatemenus[0].buttons[0].args[1]['frame']['duration'] = 700\n",
        "fig.show()"
      ]
    }
  ],
  "metadata": {
    "kernelspec": {
      "display_name": "Python 3",
      "language": "python",
      "name": "python3"
    },
    "language_info": {
      "codemirror_mode": {
        "name": "ipython",
        "version": 3
      },
      "file_extension": ".py",
      "mimetype": "text/x-python",
      "name": "python",
      "nbconvert_exporter": "python",
      "pygments_lexer": "ipython3",
      "version": "3.8.5"
    },
    "colab": {
      "name": "Proefstuderen_programming.ipynb",
      "provenance": [],
      "include_colab_link": true
    }
  },
  "nbformat": 4,
  "nbformat_minor": 0
}