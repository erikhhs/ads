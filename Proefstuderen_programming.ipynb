{
  "cells": [
    {
      "cell_type": "markdown",
      "metadata": {
        "id": "view-in-github",
        "colab_type": "text"
      },
      "source": [
        "<a href=\"https://colab.research.google.com/github/erikhhs/ads/blob/main/Proefstuderen_programming.ipynb\" target=\"_parent\"><img src=\"https://colab.research.google.com/assets/colab-badge.svg\" alt=\"Open In Colab\"/></a>"
      ]
    },
    {
      "cell_type": "markdown",
      "metadata": {
        "id": "WVxXhfTZcfPu"
      },
      "source": [
        "# Proefstuderen: programmeren\n",
        "- Voer onderstaande cel uit om libraries te importeren"
      ]
    },
    {
      "cell_type": "code",
      "execution_count": null,
      "metadata": {
        "id": "vQyUtYzhcfQE"
      },
      "outputs": [],
      "source": [
        "import numpy as np\n",
        "import pandas as pd\n",
        "from matplotlib import pyplot as plt\n",
        "import plotly.express as px"
      ]
    },
    {
      "cell_type": "markdown",
      "metadata": {
        "id": "yx7bHqOdcfQL"
      },
      "source": [
        "## 1. Python als rekenmachine\n",
        "\n",
        "### 1.1 Rekensymbolen\n",
        "\n",
        "Toon het resultaat van:\n",
        "- 8 maal 10\n",
        "- 10 tot de 3e macht\n",
        "- 300 min 25 maal 10 (controleer of de rekenregels goed worden toegepast)\n",
        "\n",
        "Maak hiervoor gebruik van de 3 onderstaande cellen"
      ]
    },
    {
      "cell_type": "code",
      "execution_count": null,
      "metadata": {
        "id": "ocg2RbatcfQO"
      },
      "outputs": [],
      "source": [
        ""
      ]
    },
    {
      "cell_type": "code",
      "execution_count": null,
      "metadata": {
        "id": "YpPYf31WcfQX"
      },
      "outputs": [],
      "source": [
        ""
      ]
    },
    {
      "cell_type": "code",
      "execution_count": null,
      "metadata": {
        "id": "2opAVvIRcfQa"
      },
      "outputs": [],
      "source": [
        ""
      ]
    },
    {
      "cell_type": "markdown",
      "metadata": {
        "id": "BDgWAJLBcfQd"
      },
      "source": [
        "### 1.2 Printen van resultaten\n",
        "Gebruik de printfunctie om de resultaten in 1 cel te tonen.\n"
      ]
    },
    {
      "cell_type": "code",
      "execution_count": null,
      "metadata": {
        "scrolled": true,
        "id": "lezhUY_ScfQi"
      },
      "outputs": [],
      "source": [
        "print()\n",
        "print()\n",
        "print()"
      ]
    },
    {
      "cell_type": "markdown",
      "metadata": {
        "id": "H3x4HTafcfQp"
      },
      "source": [
        "Wat gebeurt er als je een hashtag (#) voor een van de print statements zet?"
      ]
    },
    {
      "cell_type": "markdown",
      "metadata": {
        "id": "zIxR2X0LcfQu"
      },
      "source": [
        "### 1.3 Financiele rekenkunde\n",
        "Je hebt $100 tot je beschikking. Je kan dit op een spaarrekening zetten met 10% rente ieder jaar. Na 1 jaar is de waarde: 100×1.1=110 dollar. Na twee jaar is de waarde 100×1.1×1.1=121. Schrijf code om te berekenen hoeveel de waarde is na 7 jaar. Gebruik de print functie om het resultaat te tonen."
      ]
    },
    {
      "cell_type": "code",
      "execution_count": null,
      "metadata": {
        "id": "3-jdchX-cfQx"
      },
      "outputs": [],
      "source": [
        ""
      ]
    },
    {
      "cell_type": "markdown",
      "metadata": {
        "id": "iO_TBC-ZcfQ0"
      },
      "source": [
        "## 2. Variabelen en types\n",
        "### 2.1 Variabelen\n",
        "\n",
        "Definieer de volgende variabelen en wijs de genoemde waardes eraan toe. Print de omzet.\n",
        "\n",
        "hvd:\n",
        "De verkochte hoeveelheid is 100.\n",
        "\n",
        "prijs:\n",
        "De verkoopprijs is 3.65.\n",
        "\n",
        "omzet:\n",
        "de omzet is prijs maal hoeveelheid.\n",
        "\n",
        "print de omzet"
      ]
    },
    {
      "cell_type": "code",
      "execution_count": null,
      "metadata": {
        "id": "Gqxkj5g3cfQ2"
      },
      "outputs": [],
      "source": [
        ""
      ]
    },
    {
      "cell_type": "markdown",
      "metadata": {
        "id": "CdaSG83_cfQ4"
      },
      "source": [
        "### 2.2 Financiele rekenkunde met variabelen\n",
        "Voor opdracht 1.3 deed je het volgende:\n",
        "\n",
        "Je hebt $100 tot je beschikking. Je kan dit op een spaarrekening zetten met 10% rente ieder jaar. Na 1 jaar is de waarde: 100×1.1=110 dollar. Na twee jaar is de waarde 100×1.1×1.1=121. Schrijf code om te berekenen hoeveel de waarde is na 7 jaar. Gebruik de print functie om het resultaat te tonen.\n",
        "\n",
        "Bereken de waarde na 7 jaar opnieuw, maar maak nu gebruik van de volgende variabelen: startbedrag, factor, jaren, waarde.\n",
        "\n",
        "Print de waarde."
      ]
    },
    {
      "cell_type": "code",
      "execution_count": null,
      "metadata": {
        "id": "_ef1UMIccfQ6"
      },
      "outputs": [],
      "source": [
        ""
      ]
    },
    {
      "cell_type": "markdown",
      "metadata": {
        "id": "YFVhaEKBcfRO"
      },
      "source": [
        "## 3 Armoede en ongelijkheid\n",
        "\n",
        "We gaan nu onderzoeken hoe het ervoor staat met armoede en inkomensongelijkheid in de wereld. We maken daarvoor gebruik van een dataset van de wereldbank."
      ]
    },
    {
      "cell_type": "code",
      "source": [
        "df = pd.read_csv('https://raw.githubusercontent.com/erikhhs/ads/main/armoede_ongelijkheid.csv')\n",
        "df"
      ],
      "metadata": {
        "id": "qMKLdvLC6s0K"
      },
      "execution_count": null,
      "outputs": []
    },
    {
      "cell_type": "markdown",
      "metadata": {
        "id": "RNwwo__PcfRQ"
      },
      "source": [
        "### 3.1 Data analyse: armoede\n",
        "de kolom 'pov' bevat de poverty rate per land. Dit is het perecentage mensen dat in armoede leeft. \n",
        "- Bereken het het gemiddelde van de 'poverty rates'\n",
        "- Bepaal wat de hoogste poverty rate is\n",
        "- Bepaal welk land de hoogste poverty rate heeft\n"
      ]
    },
    {
      "cell_type": "code",
      "source": [
        "mean_pov = np.mean(df[''])\n",
        "display(mean_pov)\n",
        "max_pov = max()\n",
        "display(max_pov)\n",
        "country_max = df[df['']==max_pov]\n",
        "display(country_max)"
      ],
      "metadata": {
        "id": "1UKQ1xowxH3u"
      },
      "execution_count": null,
      "outputs": []
    },
    {
      "cell_type": "markdown",
      "source": [
        "### 3.2 Data analyse: inkomensongelijkheid\n",
        "de kolom 'gini' bevat de gini coefficient per land. Hoe hoger deze coefficient hoe ongelijker inkomens zijn verdeeld in een land.\n",
        "- Bereken het het gemiddelde van gini\n",
        "- Bepaal wat de gini is\n",
        "- Bepaal welk land de hoogste gini heeft"
      ],
      "metadata": {
        "id": "PGeU51k2yyYL"
      }
    },
    {
      "cell_type": "code",
      "source": [
        ""
      ],
      "metadata": {
        "id": "I_UREWhEy83w"
      },
      "execution_count": null,
      "outputs": []
    },
    {
      "cell_type": "markdown",
      "source": [
        "### 4.1 Data visualisatie: gini en armoede per land\n",
        "In onderstaande cel wordt een overzicht getoond van de gini-scores per land. \n",
        "- Pas de code aan zodat de poverty rates worden getoond i.p.v. de gini.\n",
        "- Pas ook de namen van de grafiek en de x-as aan."
      ],
      "metadata": {
        "id": "xir47boI-6ZO"
      }
    },
    {
      "cell_type": "code",
      "execution_count": null,
      "metadata": {
        "id": "8ASf76fzcfRR"
      },
      "outputs": [],
      "source": [
        "df.sort_values('gini', inplace=True)\n",
        "plt.figure(figsize=(20,10))\n",
        "plt.barh(df['cc'], df['gini'])\n",
        "plt.xlabel('Inequality')\n",
        "plt.ylabel('Country')\n",
        "plt.title('GINI score by country')\n",
        "plt.show()"
      ]
    },
    {
      "cell_type": "code",
      "source": [
        ""
      ],
      "metadata": {
        "id": "yLbEHmtmJu6x"
      },
      "execution_count": null,
      "outputs": []
    },
    {
      "cell_type": "markdown",
      "metadata": {
        "id": "t-CLzQ9QcfRS"
      },
      "source": [
        "### 4.2 Data visualisatie: relatie tussen armoede en inkomensongelijkheid\n",
        "\n",
        "Maak aanpassingen in onderstaande cel zodat het resultaat als volgt is:\n",
        "\n",
        "- Er wordt een 'scatterplot' getoond met de poverty rates op de x-as en gini op de y-as.\n",
        "- x-as label: 'Poverty Ratio'\n",
        "- y-as label: 'Gini coefficient'\n",
        "- titel: 'Relation poverty and inequality'"
      ]
    },
    {
      "cell_type": "code",
      "execution_count": null,
      "metadata": {
        "id": "4ZOzUDaocfRT"
      },
      "outputs": [],
      "source": [
        "plt.scatter()\n",
        "plt.xlabel()\n",
        "plt.ylabel()\n",
        "plt.title()\n",
        "plt.show()"
      ]
    },
    {
      "cell_type": "markdown",
      "source": [
        "- Gebruik de functie np.corrcoef() om de mate van correlatie tussen gini en armoede te berekenen."
      ],
      "metadata": {
        "id": "l8MmCRRPKeMP"
      }
    },
    {
      "cell_type": "code",
      "execution_count": null,
      "metadata": {
        "id": "n5PJV7ltcfRU"
      },
      "outputs": [],
      "source": [
        "corr = np.corrcoef()\n",
        "print(corr)"
      ]
    },
    {
      "cell_type": "markdown",
      "metadata": {
        "id": "e4BArRy7cfRV"
      },
      "source": [
        "### 4.3 Datavisualisatie to the max\n",
        "- Bekijk deze youtube video:\n",
        "https://www.youtube.com/watch?v=E6t7ZZ_FY4o\n",
        "\n",
        "- We gaan deze visualisatie nabouwen met behulp van de instructies in deze link:\n",
        "https://medium.com/python-in-plain-english/animated-bubble-chart-with-plotly-in-python-inspired-by-professor-hans-rosling-b7262298dd03\n",
        "\n",
        "- Voer onderstaande cel uit om een dataset over levensverwachting en BBP per hoofd van de bevolking te openen."
      ]
    },
    {
      "cell_type": "code",
      "execution_count": null,
      "metadata": {
        "id": "jZZvmoY3cfRW"
      },
      "outputs": [],
      "source": [
        "dataset = pd.read_csv('https://raw.githubusercontent.com/erikhhs/ads/main/dataset.csv')\n",
        "display(dataset)"
      ]
    },
    {
      "cell_type": "markdown",
      "metadata": {
        "id": "MN09mnntcfRY"
      },
      "source": [
        "- Hieronder is de visualisatie nagebouwd vanaf 1950"
      ]
    },
    {
      "cell_type": "code",
      "execution_count": null,
      "metadata": {
        "id": "lOpMUcRmcfRZ"
      },
      "outputs": [],
      "source": [
        "fig = px.scatter(dataset, x='GDPperCap', y='LifeExp', animation_frame='Year', \n",
        " animation_group='Country',size='Population', \n",
        " color='Continent_Name',\n",
        " hover_name='Country', log_x=True, \n",
        " size_max=45,range_x=[200,150000], range_y=[10,100]\n",
        " )\n",
        "fig.layout.updatemenus[0].buttons[0].args[1]['frame']['duration'] = 700\n",
        "fig.show()"
      ]
    }
  ],
  "metadata": {
    "kernelspec": {
      "display_name": "Python 3",
      "language": "python",
      "name": "python3"
    },
    "language_info": {
      "codemirror_mode": {
        "name": "ipython",
        "version": 3
      },
      "file_extension": ".py",
      "mimetype": "text/x-python",
      "name": "python",
      "nbconvert_exporter": "python",
      "pygments_lexer": "ipython3",
      "version": "3.8.5"
    },
    "colab": {
      "name": "Proefstuderen_programming.ipynb",
      "provenance": [],
      "include_colab_link": true
    }
  },
  "nbformat": 4,
  "nbformat_minor": 0
}