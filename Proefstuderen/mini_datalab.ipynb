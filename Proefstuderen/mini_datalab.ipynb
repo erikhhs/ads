{
  "cells": [
    {
      "cell_type": "markdown",
      "metadata": {
        "id": "view-in-github",
        "colab_type": "text"
      },
      "source": [
        "<a href=\"https://colab.research.google.com/github/erikhhs/ads/blob/main/mini_datalab.ipynb\" target=\"_parent\"><img src=\"https://colab.research.google.com/assets/colab-badge.svg\" alt=\"Open In Colab\"/></a>"
      ]
    },
    {
      "cell_type": "markdown",
      "metadata": {
        "id": "7YjJnrXIaaKe"
      },
      "source": [
        "# Voorspel of een tumor goedaardig is of kwaadaardig"
      ]
    },
    {
      "cell_type": "markdown",
      "metadata": {
        "id": "W-OmhieVaaKf"
      },
      "source": [
        "## Importeren toolset\n",
        "- De tools die we gebruiken moeten we eerst importeren voordat we ze kunnen gebruiken.\n",
        "- Voer onderstaande cel uit."
      ]
    },
    {
      "cell_type": "code",
      "execution_count": null,
      "metadata": {
        "hide_input": false,
        "id": "obUEFHRZaaKg"
      },
      "outputs": [],
      "source": [
        "%matplotlib inline\n",
        "from matplotlib import pyplot as plt\n",
        "import seaborn as sns\n",
        "from sklearn.model_selection import train_test_split\n",
        "import pandas as pd\n",
        "import numpy as np\n",
        "from sklearn.datasets import load_breast_cancer\n",
        "cancer = load_breast_cancer()\n",
        "from sklearn import tree as tree_plt\n",
        "from sklearn.tree import DecisionTreeClassifier\n",
        "from sklearn.metrics import plot_confusion_matrix\n",
        "def plot_feature_importances_cancer(model):\n",
        "    n_features = cancer.data.shape[1]\n",
        "    plt.barh(np.arange(n_features), model.feature_importances_, align='center')\n",
        "    plt.yticks(np.arange(n_features), cancer.feature_names)\n",
        "    plt.xlabel(\"Feature importance\")\n",
        "    plt.ylabel(\"Feature\")\n",
        "    plt.ylim(-1, n_features)"
      ]
    },
    {
      "cell_type": "markdown",
      "metadata": {
        "id": "IX3IMQ99aaKg"
      },
      "source": [
        "## 1 Laden van de borstkanker dataset\n",
        "- 10 kolommen met kenmerken van de tumor.\n",
        "- 1 kolom waarin staat of de tumor goedaardig is of kwaadaardig (0 = kwaadaardig, 1 = goedaardig). Dit is vastgesteld met een punctie.\n",
        "- Voer onderstaande cel uit om de dataset te laden en een dataframe ervan te maken."
      ]
    },
    {
      "cell_type": "code",
      "execution_count": null,
      "metadata": {
        "id": "5P3zccY3aaKh"
      },
      "outputs": [],
      "source": [
        "df = pd.DataFrame(cancer.data, columns = cancer.feature_names)\n",
        "top10 = ['smoothness error',\n",
        " 'concavity error',\n",
        " 'worst smoothness',\n",
        " 'area error',\n",
        " 'concave points error',\n",
        " 'mean texture',\n",
        " 'worst area',\n",
        " 'worst radius',\n",
        " 'worst texture',\n",
        " 'mean concave points']\n",
        "df = df[top10]\n",
        "df['IsBenign'] = cancer.target\n",
        "display(df)\n",
        "print( {n: v for n, v in zip(['kwaadaardig', 'goedaardig'], np.bincount(cancer.target))})\n",
        "print('1 in kolom IsBenign betekent dat de tumor goedaardig is')"
      ]
    },
    {
      "cell_type": "markdown",
      "source": [
        "### 1.1 informatie over de dataset\n",
        "- Toon de informatie van de dataset in onderstaande cel.\n",
        "- Zijn er ontbrekende waardes?\n",
        "- Welke datatypes zijn er?"
      ],
      "metadata": {
        "id": "LILnAk_MU7iY"
      }
    },
    {
      "cell_type": "code",
      "source": [
        ""
      ],
      "metadata": {
        "id": "lKCCWNHaVUlT"
      },
      "execution_count": null,
      "outputs": []
    },
    {
      "cell_type": "markdown",
      "source": [
        "## 2 Interview je opdrachtgever\n",
        "Bereid een interview voor:\n",
        "- Bestudeer de dataset.\n",
        "- Schrijf op wat nog niet duidelijk is.\n",
        "- Maak vragen waarmee je kunt achterhalen welke doelen de opdrachtgever wil behalen.\n",
        "\n",
        "Interview de opdrachtgever en noteer hier welke doelen de opdrachtgever wil behalen:\n",
        "\n",
        "\n"
      ],
      "metadata": {
        "id": "9wI16HbjUm94"
      }
    },
    {
      "cell_type": "markdown",
      "source": [
        "## 3 Data analyse\n",
        "Maak grafieken waarin je het volgende laat zien:\n",
        "- Het aantal regels dat goedaardig is en het aantal dat kwaadaardig is.\n",
        "- De informatie die ieder van de 10 kenmerken geeft voor het correct voorspellen van de aard van de tumor (10 grafieken).\n",
        "- Welk kenmerk geeft de meeste informatie om te kunnen voorspellen of een tumor goed- of kwaadaardig is?"
      ],
      "metadata": {
        "id": "jZIZT5BKZBLA"
      }
    },
    {
      "cell_type": "code",
      "execution_count": null,
      "metadata": {
        "id": "tpWTLJyeaaKh"
      },
      "outputs": [],
      "source": [
        ""
      ]
    },
    {
      "cell_type": "code",
      "execution_count": null,
      "metadata": {
        "id": "-UOmcQZHaaKh"
      },
      "outputs": [],
      "source": [
        ""
      ]
    },
    {
      "cell_type": "code",
      "execution_count": null,
      "metadata": {
        "id": "zdDVWqJNaaKi"
      },
      "outputs": [],
      "source": [
        ""
      ]
    },
    {
      "cell_type": "markdown",
      "metadata": {
        "id": "h4CsU8EJaaKi"
      },
      "source": [
        "## Splitsen in x-variabelen en y-variabele\n",
        "\n",
        "Met de x-variabelen proberen we de y-variabele zo goed mogelijk te voorspellen.\n",
        "\n",
        "X-variabelen: de kenmerken van de tumor (mean radius, mean texture etc.).\n",
        "\n",
        "y-variabele: de klasse die we willen voorspellen. In dit geval kwaadaardig of goedaardig, 0 of 1.\n",
        "\n",
        "- Splits de data in df in X en y"
      ]
    },
    {
      "cell_type": "code",
      "execution_count": null,
      "metadata": {
        "id": "cROTgGffaaKi"
      },
      "outputs": [],
      "source": [
        ""
      ]
    },
    {
      "cell_type": "markdown",
      "metadata": {
        "id": "4jWDwsVPaaKi"
      },
      "source": [
        "## Splitsen in training data en test data\n",
        "De training data gebruiken we om het model te trainen.\n",
        "\n",
        "De test data gebruiken we om te bepalen hoe goed ons model kan voorspellen.\n",
        "\n",
        "- Splits de data in X_test, X_train, y_test en y_train\n"
      ]
    },
    {
      "cell_type": "code",
      "execution_count": null,
      "metadata": {
        "id": "HCJQ3Bd3aaKi"
      },
      "outputs": [],
      "source": [
        "X_train, X_test, y_train, y_test = \n",
        "print('X_train:', 'Aantal rijen =' ,X_train.shape[0], ',','Aantal kolommen =', X_train.shape[1], )\n",
        "print('y_train: ', 'Aantal rijen =', y_train.shape[0], ',','Aantal kolommen =', 1 )\n",
        "print('X_test:', 'Aantal rijen =' ,X_test.shape[0], ',','Aantal kolommen =', X_test.shape[1], )\n",
        "print('y_test: ', 'Aantal rijen =', y_test.shape[0], ',','Aantal kolommen =', 1 )"
      ]
    },
    {
      "cell_type": "markdown",
      "metadata": {
        "id": "DYoc7FduaaKj"
      },
      "source": [
        "## Trainen van het model\n",
        "- Train een beslisboom met behulp van een DecisionTreeClassifier"
      ]
    },
    {
      "cell_type": "code",
      "execution_count": null,
      "metadata": {
        "id": "fT31DV7daaKj"
      },
      "outputs": [],
      "source": [
        "tree = \n",
        "tree.fit()"
      ]
    },
    {
      "cell_type": "markdown",
      "metadata": {
        "id": "zM-IoWSNaaKk"
      },
      "source": [
        "## Visualisatie van het model\n",
        "- Visualeer de beslisboom door onderstaande cel uit te voeren.\n",
        "- Leg uit aan je opdrachtgever uit hoe deze beslisboom gebruikt kan worden in haar / zijn dagelijkse werkzaamheden."
      ]
    },
    {
      "cell_type": "code",
      "execution_count": null,
      "metadata": {
        "id": "rvE6KizUaaKk"
      },
      "outputs": [],
      "source": [
        "fig = plt.figure(figsize=(140,60))\n",
        "_ = tree_plt.plot_tree(tree, \n",
        "                   feature_names=X.columns,  \n",
        "                   class_names=cancer.target_names,\n",
        "                   filled=True, impurity = 'true', fontsize = 60)"
      ]
    },
    {
      "cell_type": "markdown",
      "metadata": {
        "id": "3URybTgOaaKk"
      },
      "source": [
        "## Voorspellen met de getrainde beslisboom\n",
        "- Gebruik de beslisboom om te voorspellen wat de aard van de tumoren is. Gebruik hiervoor X_test.\n",
        "- Hoeveel procent van je voorspellingen is juist?"
      ]
    },
    {
      "cell_type": "code",
      "execution_count": null,
      "metadata": {
        "id": "mWnvHHWCaaKl"
      },
      "outputs": [],
      "source": [
        ""
      ]
    },
    {
      "cell_type": "markdown",
      "metadata": {
        "id": "C1LvZskIaaKl"
      },
      "source": [
        "## Analyseren van de voorspellingen\n",
        "- Maak een confusion matrix door onderstaande cel uit te voeren.\n",
        "- Hoeveel kwaadaardige tumoren zitten er in de test set?\n",
        "- Hoeveel daarvan heeft het model gevonden?\n",
        "\n",
        "De recall score wordt als volgt berekend: het aantal kwaadaardige tumoren in de test set / het aantal gevonden kwaadaardige tumoren.\n",
        "- Hoe hoog is de recall score?\n",
        "- Waarom is in deze situatie de recall score van belang?"
      ]
    },
    {
      "cell_type": "code",
      "execution_count": null,
      "metadata": {
        "id": "P3Uql8_daaKl"
      },
      "outputs": [],
      "source": [
        "plot_confusion_matrix(tree, X_test, y_test,display_labels=['kwaadaardig', 'goedaardig'], cmap=plt.cm.Blues, normalize=None)\n",
        "plt.show()"
      ]
    }
  ],
  "metadata": {
    "kernelspec": {
      "display_name": "Python 3",
      "language": "python",
      "name": "python3"
    },
    "language_info": {
      "codemirror_mode": {
        "name": "ipython",
        "version": 3
      },
      "file_extension": ".py",
      "mimetype": "text/x-python",
      "name": "python",
      "nbconvert_exporter": "python",
      "pygments_lexer": "ipython3",
      "version": "3.8.5"
    },
    "latex_metadata": {
      "author": "Andreas C. M\\\"ller",
      "title": "Machine Learning with Python"
    },
    "colab": {
      "name": "mini_datalab.ipynb",
      "provenance": [],
      "include_colab_link": true
    }
  },
  "nbformat": 4,
  "nbformat_minor": 0
}
